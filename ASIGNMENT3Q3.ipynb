{
 "cells": [
  {
   "cell_type": "raw",
   "id": "a44c2d67",
   "metadata": {},
   "source": []
  },
  {
   "cell_type": "code",
   "execution_count": 2,
   "id": "fd127872",
   "metadata": {},
   "outputs": [
    {
     "name": "stdout",
     "output_type": "stream",
     "text": [
      "Enter a string :vINEESH\n",
      "The no: of uppercase letters: 6\n",
      "The no: of lowercase letters: 1\n"
     ]
    }
   ],
   "source": [
    "#CALCULATE THE NUMBER OF UPPERCASE AND LOWERCASE LETTERS USING FUNCTIONS\n",
    "string=input(\"Enter a string :\")\n",
    "def even_odd(a):\n",
    "    cl=0\n",
    "    cu=0\n",
    "    for i in a:\n",
    "        if(i.islower()):\n",
    "            cl+=1\n",
    "        elif(i.isupper()):\n",
    "            cu+=1\n",
    "    print(\"The no: of uppercase letters:\",cu)\n",
    "    print(\"The no: of lowercase letters:\",cl)\n",
    "even_odd(string)   \n",
    "            "
   ]
  },
  {
   "cell_type": "code",
   "execution_count": null,
   "id": "c387d5a5",
   "metadata": {},
   "outputs": [],
   "source": []
  }
 ],
 "metadata": {
  "kernelspec": {
   "display_name": "Python 3",
   "language": "python",
   "name": "python3"
  },
  "language_info": {
   "codemirror_mode": {
    "name": "ipython",
    "version": 3
   },
   "file_extension": ".py",
   "mimetype": "text/x-python",
   "name": "python",
   "nbconvert_exporter": "python",
   "pygments_lexer": "ipython3",
   "version": "3.8.8"
  }
 },
 "nbformat": 4,
 "nbformat_minor": 5
}
